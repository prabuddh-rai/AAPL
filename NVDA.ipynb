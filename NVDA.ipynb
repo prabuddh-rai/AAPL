{
 "cells": [
  {
   "cell_type": "markdown",
   "id": "ccf9b64f",
   "metadata": {},
   "source": [
    "# 1. Linear Regression (LR)"
   ]
  },
  {
   "cell_type": "code",
   "execution_count": 959,
   "id": "fe48ea22",
   "metadata": {},
   "outputs": [],
   "source": [
    "import numpy as np\n",
    "import pandas as pd\n",
    "import matplotlib.pyplot as plt\n",
    "import seaborn as sns\n",
    "import math"
   ]
  },
  {
   "cell_type": "markdown",
   "id": "24cf58c5",
   "metadata": {},
   "source": [
    "## Data extraction & EDA"
   ]
  },
  {
   "cell_type": "code",
   "execution_count": 960,
   "id": "f38d123c",
   "metadata": {},
   "outputs": [],
   "source": [
    "df=pd.read_csv('NVDA.csv')"
   ]
  },
  {
   "cell_type": "code",
   "execution_count": 961,
   "id": "cf070b37",
   "metadata": {},
   "outputs": [],
   "source": [
    "df1=df.reset_index()"
   ]
  },
  {
   "cell_type": "code",
   "execution_count": 962,
   "id": "26f52e3a",
   "metadata": {},
   "outputs": [],
   "source": [
    "df1.sort_values('index',inplace=True,ascending=False)"
   ]
  },
  {
   "cell_type": "code",
   "execution_count": 963,
   "id": "371cc1a6",
   "metadata": {},
   "outputs": [],
   "source": [
    "df1['Close/Last']=df1['Close/Last'].apply(lambda x:x.split('$')[1])"
   ]
  },
  {
   "cell_type": "code",
   "execution_count": 964,
   "id": "06392ac5",
   "metadata": {},
   "outputs": [],
   "source": [
    "df1['Close/Last']=df1['Close/Last'].astype(float)"
   ]
  },
  {
   "cell_type": "code",
   "execution_count": 965,
   "id": "f43ad3e6",
   "metadata": {},
   "outputs": [],
   "source": [
    "dates=np.array(df1['Date'])"
   ]
  },
  {
   "cell_type": "code",
   "execution_count": 966,
   "id": "06e8d177",
   "metadata": {},
   "outputs": [
    {
     "data": {
      "text/plain": [
       "array(['2/21/2017', '2/22/2017', '2/23/2017', ..., '2/16/2022',\n",
       "       '2/17/2022', '2/18/2022'], dtype=object)"
      ]
     },
     "execution_count": 966,
     "metadata": {},
     "output_type": "execute_result"
    }
   ],
   "source": [
    "dates"
   ]
  },
  {
   "cell_type": "code",
   "execution_count": 967,
   "id": "aea8e97e",
   "metadata": {},
   "outputs": [],
   "source": [
    "df2=df1.reset_index()['Close/Last']"
   ]
  },
  {
   "cell_type": "code",
   "execution_count": 968,
   "id": "a695519a",
   "metadata": {},
   "outputs": [
    {
     "data": {
      "text/plain": [
       "(1260,)"
      ]
     },
     "execution_count": 968,
     "metadata": {},
     "output_type": "execute_result"
    }
   ],
   "source": [
    "df2.shape"
   ]
  },
  {
   "cell_type": "code",
   "execution_count": 969,
   "id": "f65e6c5b",
   "metadata": {},
   "outputs": [
    {
     "data": {
      "text/plain": [
       "Text(0.5, 1.0, 'NVDA Price 5 year data')"
      ]
     },
     "execution_count": 969,
     "metadata": {},
     "output_type": "execute_result"
    },
    {
     "data": {
      "image/png": "[encoded data removed]",
      "text/plain": [
       "<Figure size 432x288 with 1 Axes>"
      ]
     },
     "metadata": {
      "needs_background": "light"
     },
     "output_type": "display_data"
    }
   ],
   "source": [
    "plt.plot(df2,color = 'red')\n",
    "plt.xlabel('Day')\n",
    "plt.ylabel('NVDA Price')\n",
    "plt.title('NVDA Price 5 year data')"
   ]
  },
  {
   "cell_type": "code",
   "execution_count": 970,
   "id": "5e0524ec",
   "metadata": {},
   "outputs": [],
   "source": [
    "df2=np.array(df2).reshape(-1,1)"
   ]
  },
  {
   "cell_type": "markdown",
   "id": "54c416bf",
   "metadata": {},
   "source": [
    "## Converting time series data for regression with time steps"
   ]
  },
  {
   "cell_type": "code",
   "execution_count": 1044,
   "id": "ffa74e96",
   "metadata": {},
   "outputs": [],
   "source": [
    "def split_sequence(sequence, n_steps):\n",
    "    X, y = [], []\n",
    "    for i in range(len(sequence)):\n",
    "        # find the end of this pattern\n",
    "        end_ix = i + n_steps\n",
    "        # check if we are beyond the sequence\n",
    "        if end_ix > len(sequence)-1:\n",
    "            break\n",
    "        # gather input and output parts of the pattern\n",
    "        seq_x, seq_y = sequence[i:end_ix], sequence[end_ix]\n",
    "        X.append(seq_x)\n",
    "        y.append(seq_y)\n",
    "    return np.array(X), np.array(y)\n",
    " "
   ]
  },
  {
   "cell_type": "code",
   "execution_count": 972,
   "id": "6735d170",
   "metadata": {},
   "outputs": [],
   "source": [
    "X,y=split_sequence(df2,10)"
   ]
  },
  {
   "cell_type": "code",
   "execution_count": 973,
   "id": "95496447",
   "metadata": {},
   "outputs": [
    {
     "data": {
      "text/plain": [
       "(1250, 10, 1)"
      ]
     },
     "execution_count": 973,
     "metadata": {},
     "output_type": "execute_result"
    }
   ],
   "source": [
    "X.shape"
   ]
  },
  {
   "cell_type": "code",
   "execution_count": 974,
   "id": "cf4f4b53",
   "metadata": {},
   "outputs": [],
   "source": [
    "X=X.reshape(1250,-1)"
   ]
  },
  {
   "cell_type": "code",
   "execution_count": 975,
   "id": "f1530419",
   "metadata": {},
   "outputs": [
    {
     "data": {
      "text/plain": [
       "(1250, 10)"
      ]
     },
     "execution_count": 975,
     "metadata": {},
     "output_type": "execute_result"
    }
   ],
   "source": [
    "X.shape"
   ]
  },
  {
   "cell_type": "code",
   "execution_count": 976,
   "id": "05f0b012",
   "metadata": {},
   "outputs": [],
   "source": [
    "DF=pd.DataFrame(X)"
   ]
  },
  {
   "cell_type": "code",
   "execution_count": 977,
   "id": "1d2fde0d",
   "metadata": {},
   "outputs": [
    {
     "data": {
      "text/html": [
       "<div>\n",
       "<style scoped>\n",
       "    .dataframe tbody tr th:only-of-type {\n",
       "        vertical-align: middle;\n",
       "    }\n",
       "\n",
       "    .dataframe tbody tr th {\n",
       "        vertical-align: top;\n",
       "    }\n",
       "\n",
       "    .dataframe thead th {\n",
       "        text-align: right;\n",
       "    }\n",
       "</style>\n",
       "<table border=\"1\" class=\"dataframe\">\n",
       "  <thead>\n",
       "    <tr style=\"text-align: right;\">\n",
       "      <th></th>\n",
       "      <th>0</th>\n",
       "      <th>1</th>\n",
       "      <th>2</th>\n",
       "      <th>3</th>\n",
       "      <th>4</th>\n",
       "      <th>5</th>\n",
       "      <th>6</th>\n",
       "      <th>7</th>\n",
       "      <th>8</th>\n",
       "      <th>9</th>\n",
       "    </tr>\n",
       "  </thead>\n",
       "  <tbody>\n",
       "    <tr>\n",
       "      <th>0</th>\n",
       "      <td>27.77</td>\n",
       "      <td>27.69</td>\n",
       "      <td>25.12</td>\n",
       "      <td>25.37</td>\n",
       "      <td>26.10</td>\n",
       "      <td>25.37</td>\n",
       "      <td>25.70</td>\n",
       "      <td>24.75</td>\n",
       "      <td>24.61</td>\n",
       "      <td>24.42</td>\n",
       "    </tr>\n",
       "    <tr>\n",
       "      <th>1</th>\n",
       "      <td>27.69</td>\n",
       "      <td>25.12</td>\n",
       "      <td>25.37</td>\n",
       "      <td>26.10</td>\n",
       "      <td>25.37</td>\n",
       "      <td>25.70</td>\n",
       "      <td>24.75</td>\n",
       "      <td>24.61</td>\n",
       "      <td>24.42</td>\n",
       "      <td>24.69</td>\n",
       "    </tr>\n",
       "    <tr>\n",
       "      <th>2</th>\n",
       "      <td>25.12</td>\n",
       "      <td>25.37</td>\n",
       "      <td>26.10</td>\n",
       "      <td>25.37</td>\n",
       "      <td>25.70</td>\n",
       "      <td>24.75</td>\n",
       "      <td>24.61</td>\n",
       "      <td>24.42</td>\n",
       "      <td>24.69</td>\n",
       "      <td>24.64</td>\n",
       "    </tr>\n",
       "    <tr>\n",
       "      <th>3</th>\n",
       "      <td>25.37</td>\n",
       "      <td>26.10</td>\n",
       "      <td>25.37</td>\n",
       "      <td>25.70</td>\n",
       "      <td>24.75</td>\n",
       "      <td>24.61</td>\n",
       "      <td>24.42</td>\n",
       "      <td>24.69</td>\n",
       "      <td>24.64</td>\n",
       "      <td>24.64</td>\n",
       "    </tr>\n",
       "    <tr>\n",
       "      <th>4</th>\n",
       "      <td>26.10</td>\n",
       "      <td>25.37</td>\n",
       "      <td>25.70</td>\n",
       "      <td>24.75</td>\n",
       "      <td>24.61</td>\n",
       "      <td>24.42</td>\n",
       "      <td>24.69</td>\n",
       "      <td>24.64</td>\n",
       "      <td>24.64</td>\n",
       "      <td>24.78</td>\n",
       "    </tr>\n",
       "    <tr>\n",
       "      <th>...</th>\n",
       "      <td>...</td>\n",
       "      <td>...</td>\n",
       "      <td>...</td>\n",
       "      <td>...</td>\n",
       "      <td>...</td>\n",
       "      <td>...</td>\n",
       "      <td>...</td>\n",
       "      <td>...</td>\n",
       "      <td>...</td>\n",
       "      <td>...</td>\n",
       "    </tr>\n",
       "    <tr>\n",
       "      <th>1245</th>\n",
       "      <td>244.86</td>\n",
       "      <td>246.38</td>\n",
       "      <td>252.42</td>\n",
       "      <td>239.48</td>\n",
       "      <td>243.19</td>\n",
       "      <td>247.28</td>\n",
       "      <td>251.08</td>\n",
       "      <td>267.05</td>\n",
       "      <td>258.24</td>\n",
       "      <td>239.49</td>\n",
       "    </tr>\n",
       "    <tr>\n",
       "      <th>1246</th>\n",
       "      <td>246.38</td>\n",
       "      <td>252.42</td>\n",
       "      <td>239.48</td>\n",
       "      <td>243.19</td>\n",
       "      <td>247.28</td>\n",
       "      <td>251.08</td>\n",
       "      <td>267.05</td>\n",
       "      <td>258.24</td>\n",
       "      <td>239.49</td>\n",
       "      <td>242.67</td>\n",
       "    </tr>\n",
       "    <tr>\n",
       "      <th>1247</th>\n",
       "      <td>252.42</td>\n",
       "      <td>239.48</td>\n",
       "      <td>243.19</td>\n",
       "      <td>247.28</td>\n",
       "      <td>251.08</td>\n",
       "      <td>267.05</td>\n",
       "      <td>258.24</td>\n",
       "      <td>239.49</td>\n",
       "      <td>242.67</td>\n",
       "      <td>264.95</td>\n",
       "    </tr>\n",
       "    <tr>\n",
       "      <th>1248</th>\n",
       "      <td>239.48</td>\n",
       "      <td>243.19</td>\n",
       "      <td>247.28</td>\n",
       "      <td>251.08</td>\n",
       "      <td>267.05</td>\n",
       "      <td>258.24</td>\n",
       "      <td>239.49</td>\n",
       "      <td>242.67</td>\n",
       "      <td>264.95</td>\n",
       "      <td>265.11</td>\n",
       "    </tr>\n",
       "    <tr>\n",
       "      <th>1249</th>\n",
       "      <td>243.19</td>\n",
       "      <td>247.28</td>\n",
       "      <td>251.08</td>\n",
       "      <td>267.05</td>\n",
       "      <td>258.24</td>\n",
       "      <td>239.49</td>\n",
       "      <td>242.67</td>\n",
       "      <td>264.95</td>\n",
       "      <td>265.11</td>\n",
       "      <td>245.07</td>\n",
       "    </tr>\n",
       "  </tbody>\n",
       "</table>\n",
       "<p>1250 rows × 10 columns</p>\n",
       "</div>"
      ],
      "text/plain": [
       "           0       1       2       3       4       5       6       7       8  \\\n",
       "0      27.77   27.69   25.12   25.37   26.10   25.37   25.70   24.75   24.61   \n",
       "1      27.69   25.12   25.37   26.10   25.37   25.70   24.75   24.61   24.42   \n",
       "2      25.12   25.37   26.10   25.37   25.70   24.75   24.61   24.42   24.69   \n",
       "3      25.37   26.10   25.37   25.70   24.75   24.61   24.42   24.69   24.64   \n",
       "4      26.10   25.37   25.70   24.75   24.61   24.42   24.69   24.64   24.64   \n",
       "...      ...     ...     ...     ...     ...     ...     ...     ...     ...   \n",
       "1245  244.86  246.38  252.42  239.48  243.19  247.28  251.08  267.05  258.24   \n",
       "1246  246.38  252.42  239.48  243.19  247.28  251.08  267.05  258.24  239.49   \n",
       "1247  252.42  239.48  243.19  247.28  251.08  267.05  258.24  239.49  242.67   \n",
       "1248  239.48  243.19  247.28  251.08  267.05  258.24  239.49  242.67  264.95   \n",
       "1249  243.19  247.28  251.08  267.05  258.24  239.49  242.67  264.95  265.11   \n",
       "\n",
       "           9  \n",
       "0      24.42  \n",
       "1      24.69  \n",
       "2      24.64  \n",
       "3      24.64  \n",
       "4      24.78  \n",
       "...      ...  \n",
       "1245  239.49  \n",
       "1246  242.67  \n",
       "1247  264.95  \n",
       "1248  265.11  \n",
       "1249  245.07  \n",
       "\n",
       "[1250 rows x 10 columns]"
      ]
     },
     "execution_count": 977,
     "metadata": {},
     "output_type": "execute_result"
    }
   ],
   "source": [
    "DF"
   ]
  },
  {
   "cell_type": "code",
   "execution_count": 978,
   "id": "04d626dd",
   "metadata": {},
   "outputs": [],
   "source": [
    "DF2=pd.DataFrame(y,columns=['target'])"
   ]
  },
  {
   "cell_type": "code",
   "execution_count": 979,
   "id": "953653ad",
   "metadata": {},
   "outputs": [
    {
     "data": {
      "text/html": [
       "<div>\n",
       "<style scoped>\n",
       "    .dataframe tbody tr th:only-of-type {\n",
       "        vertical-align: middle;\n",
       "    }\n",
       "\n",
       "    .dataframe tbody tr th {\n",
       "        vertical-align: top;\n",
       "    }\n",
       "\n",
       "    .dataframe thead th {\n",
       "        text-align: right;\n",
       "    }\n",
       "</style>\n",
       "<table border=\"1\" class=\"dataframe\">\n",
       "  <thead>\n",
       "    <tr style=\"text-align: right;\">\n",
       "      <th></th>\n",
       "      <th>target</th>\n",
       "    </tr>\n",
       "  </thead>\n",
       "  <tbody>\n",
       "    <tr>\n",
       "      <th>0</th>\n",
       "      <td>24.69</td>\n",
       "    </tr>\n",
       "    <tr>\n",
       "      <th>1</th>\n",
       "      <td>24.64</td>\n",
       "    </tr>\n",
       "    <tr>\n",
       "      <th>2</th>\n",
       "      <td>24.64</td>\n",
       "    </tr>\n",
       "    <tr>\n",
       "      <th>3</th>\n",
       "      <td>24.78</td>\n",
       "    </tr>\n",
       "    <tr>\n",
       "      <th>4</th>\n",
       "      <td>25.46</td>\n",
       "    </tr>\n",
       "    <tr>\n",
       "      <th>...</th>\n",
       "      <td>...</td>\n",
       "    </tr>\n",
       "    <tr>\n",
       "      <th>1245</th>\n",
       "      <td>242.67</td>\n",
       "    </tr>\n",
       "    <tr>\n",
       "      <th>1246</th>\n",
       "      <td>264.95</td>\n",
       "    </tr>\n",
       "    <tr>\n",
       "      <th>1247</th>\n",
       "      <td>265.11</td>\n",
       "    </tr>\n",
       "    <tr>\n",
       "      <th>1248</th>\n",
       "      <td>245.07</td>\n",
       "    </tr>\n",
       "    <tr>\n",
       "      <th>1249</th>\n",
       "      <td>236.42</td>\n",
       "    </tr>\n",
       "  </tbody>\n",
       "</table>\n",
       "<p>1250 rows × 1 columns</p>\n",
       "</div>"
      ],
      "text/plain": [
       "      target\n",
       "0      24.69\n",
       "1      24.64\n",
       "2      24.64\n",
       "3      24.78\n",
       "4      25.46\n",
       "...      ...\n",
       "1245  242.67\n",
       "1246  264.95\n",
       "1247  265.11\n",
       "1248  245.07\n",
       "1249  236.42\n",
       "\n",
       "[1250 rows x 1 columns]"
      ]
     },
     "execution_count": 979,
     "metadata": {},
     "output_type": "execute_result"
    }
   ],
   "source": [
    "DF2"
   ]
  },
  {
   "cell_type": "code",
   "execution_count": 996,
   "id": "1961ab09",
   "metadata": {},
   "outputs": [],
   "source": [
    "DF3=pd.concat([DF,DF2],axis=1)"
   ]
  },
  {
   "cell_type": "code",
   "execution_count": 997,
   "id": "b37be4c2",
   "metadata": {},
   "outputs": [
    {
     "data": {
      "text/html": [
       "<div>\n",
       "<style scoped>\n",
       "    .dataframe tbody tr th:only-of-type {\n",
       "        vertical-align: middle;\n",
       "    }\n",
       "\n",
       "    .dataframe tbody tr th {\n",
       "        vertical-align: top;\n",
       "    }\n",
       "\n",
       "    .dataframe thead th {\n",
       "        text-align: right;\n",
       "    }\n",
       "</style>\n",
       "<table border=\"1\" class=\"dataframe\">\n",
       "  <thead>\n",
       "    <tr style=\"text-align: right;\">\n",
       "      <th></th>\n",
       "      <th>0</th>\n",
       "      <th>1</th>\n",
       "      <th>2</th>\n",
       "      <th>3</th>\n",
       "      <th>4</th>\n",
       "      <th>5</th>\n",
       "      <th>6</th>\n",
       "      <th>7</th>\n",
       "      <th>8</th>\n",
       "      <th>9</th>\n",
       "      <th>target</th>\n",
       "    </tr>\n",
       "  </thead>\n",
       "  <tbody>\n",
       "    <tr>\n",
       "      <th>0</th>\n",
       "      <td>27.77</td>\n",
       "      <td>27.69</td>\n",
       "      <td>25.12</td>\n",
       "      <td>25.37</td>\n",
       "      <td>26.10</td>\n",
       "      <td>25.37</td>\n",
       "      <td>25.70</td>\n",
       "      <td>24.75</td>\n",
       "      <td>24.61</td>\n",
       "      <td>24.42</td>\n",
       "      <td>24.69</td>\n",
       "    </tr>\n",
       "    <tr>\n",
       "      <th>1</th>\n",
       "      <td>27.69</td>\n",
       "      <td>25.12</td>\n",
       "      <td>25.37</td>\n",
       "      <td>26.10</td>\n",
       "      <td>25.37</td>\n",
       "      <td>25.70</td>\n",
       "      <td>24.75</td>\n",
       "      <td>24.61</td>\n",
       "      <td>24.42</td>\n",
       "      <td>24.69</td>\n",
       "      <td>24.64</td>\n",
       "    </tr>\n",
       "    <tr>\n",
       "      <th>2</th>\n",
       "      <td>25.12</td>\n",
       "      <td>25.37</td>\n",
       "      <td>26.10</td>\n",
       "      <td>25.37</td>\n",
       "      <td>25.70</td>\n",
       "      <td>24.75</td>\n",
       "      <td>24.61</td>\n",
       "      <td>24.42</td>\n",
       "      <td>24.69</td>\n",
       "      <td>24.64</td>\n",
       "      <td>24.64</td>\n",
       "    </tr>\n",
       "    <tr>\n",
       "      <th>3</th>\n",
       "      <td>25.37</td>\n",
       "      <td>26.10</td>\n",
       "      <td>25.37</td>\n",
       "      <td>25.70</td>\n",
       "      <td>24.75</td>\n",
       "      <td>24.61</td>\n",
       "      <td>24.42</td>\n",
       "      <td>24.69</td>\n",
       "      <td>24.64</td>\n",
       "      <td>24.64</td>\n",
       "      <td>24.78</td>\n",
       "    </tr>\n",
       "    <tr>\n",
       "      <th>4</th>\n",
       "      <td>26.10</td>\n",
       "      <td>25.37</td>\n",
       "      <td>25.70</td>\n",
       "      <td>24.75</td>\n",
       "      <td>24.61</td>\n",
       "      <td>24.42</td>\n",
       "      <td>24.69</td>\n",
       "      <td>24.64</td>\n",
       "      <td>24.64</td>\n",
       "      <td>24.78</td>\n",
       "      <td>25.46</td>\n",
       "    </tr>\n",
       "    <tr>\n",
       "      <th>...</th>\n",
       "      <td>...</td>\n",
       "      <td>...</td>\n",
       "      <td>...</td>\n",
       "      <td>...</td>\n",
       "      <td>...</td>\n",
       "      <td>...</td>\n",
       "      <td>...</td>\n",
       "      <td>...</td>\n",
       "      <td>...</td>\n",
       "      <td>...</td>\n",
       "      <td>...</td>\n",
       "    </tr>\n",
       "    <tr>\n",
       "      <th>1245</th>\n",
       "      <td>244.86</td>\n",
       "      <td>246.38</td>\n",
       "      <td>252.42</td>\n",
       "      <td>239.48</td>\n",
       "      <td>243.19</td>\n",
       "      <td>247.28</td>\n",
       "      <td>251.08</td>\n",
       "      <td>267.05</td>\n",
       "      <td>258.24</td>\n",
       "      <td>239.49</td>\n",
       "      <td>242.67</td>\n",
       "    </tr>\n",
       "    <tr>\n",
       "      <th>1246</th>\n",
       "      <td>246.38</td>\n",
       "      <td>252.42</td>\n",
       "      <td>239.48</td>\n",
       "      <td>243.19</td>\n",
       "      <td>247.28</td>\n",
       "      <td>251.08</td>\n",
       "      <td>267.05</td>\n",
       "      <td>258.24</td>\n",
       "      <td>239.49</td>\n",
       "      <td>242.67</td>\n",
       "      <td>264.95</td>\n",
       "    </tr>\n",
       "    <tr>\n",
       "      <th>1247</th>\n",
       "      <td>252.42</td>\n",
       "      <td>239.48</td>\n",
       "      <td>243.19</td>\n",
       "      <td>247.28</td>\n",
       "      <td>251.08</td>\n",
       "      <td>267.05</td>\n",
       "      <td>258.24</td>\n",
       "      <td>239.49</td>\n",
       "      <td>242.67</td>\n",
       "      <td>264.95</td>\n",
       "      <td>265.11</td>\n",
       "    </tr>\n",
       "    <tr>\n",
       "      <th>1248</th>\n",
       "      <td>239.48</td>\n",
       "      <td>243.19</td>\n",
       "      <td>247.28</td>\n",
       "      <td>251.08</td>\n",
       "      <td>267.05</td>\n",
       "      <td>258.24</td>\n",
       "      <td>239.49</td>\n",
       "      <td>242.67</td>\n",
       "      <td>264.95</td>\n",
       "      <td>265.11</td>\n",
       "      <td>245.07</td>\n",
       "    </tr>\n",
       "    <tr>\n",
       "      <th>1249</th>\n",
       "      <td>243.19</td>\n",
       "      <td>247.28</td>\n",
       "      <td>251.08</td>\n",
       "      <td>267.05</td>\n",
       "      <td>258.24</td>\n",
       "      <td>239.49</td>\n",
       "      <td>242.67</td>\n",
       "      <td>264.95</td>\n",
       "      <td>265.11</td>\n",
       "      <td>245.07</td>\n",
       "      <td>236.42</td>\n",
       "    </tr>\n",
       "  </tbody>\n",
       "</table>\n",
       "<p>1250 rows × 11 columns</p>\n",
       "</div>"
      ],
      "text/plain": [
       "           0       1       2       3       4       5       6       7       8  \\\n",
       "0      27.77   27.69   25.12   25.37   26.10   25.37   25.70   24.75   24.61   \n",
       "1      27.69   25.12   25.37   26.10   25.37   25.70   24.75   24.61   24.42   \n",
       "2      25.12   25.37   26.10   25.37   25.70   24.75   24.61   24.42   24.69   \n",
       "3      25.37   26.10   25.37   25.70   24.75   24.61   24.42   24.69   24.64   \n",
       "4      26.10   25.37   25.70   24.75   24.61   24.42   24.69   24.64   24.64   \n",
       "...      ...     ...     ...     ...     ...     ...     ...     ...     ...   \n",
       "1245  244.86  246.38  252.42  239.48  243.19  247.28  251.08  267.05  258.24   \n",
       "1246  246.38  252.42  239.48  243.19  247.28  251.08  267.05  258.24  239.49   \n",
       "1247  252.42  239.48  243.19  247.28  251.08  267.05  258.24  239.49  242.67   \n",
       "1248  239.48  243.19  247.28  251.08  267.05  258.24  239.49  242.67  264.95   \n",
       "1249  243.19  247.28  251.08  267.05  258.24  239.49  242.67  264.95  265.11   \n",
       "\n",
       "           9  target  \n",
       "0      24.42   24.69  \n",
       "1      24.69   24.64  \n",
       "2      24.64   24.64  \n",
       "3      24.64   24.78  \n",
       "4      24.78   25.46  \n",
       "...      ...     ...  \n",
       "1245  239.49  242.67  \n",
       "1246  242.67  264.95  \n",
       "1247  264.95  265.11  \n",
       "1248  265.11  245.07  \n",
       "1249  245.07  236.42  \n",
       "\n",
       "[1250 rows x 11 columns]"
      ]
     },
     "execution_count": 997,
     "metadata": {},
     "output_type": "execute_result"
    }
   ],
   "source": [
    "DF3"
   ]
  },
  {
   "cell_type": "markdown",
   "id": "639b5f33",
   "metadata": {},
   "source": [
    "## Feature Engineering"
   ]
  },
  {
   "cell_type": "code",
   "execution_count": 998,
   "id": "06e33b04",
   "metadata": {},
   "outputs": [],
   "source": [
    "list=[(DF3.iloc[i].values.max()-DF3.iloc[i].values.min())/(DF3.iloc[i].values.mean())for i in range(len(DF3)) ]"
   ]
  },
  {
   "cell_type": "code",
   "execution_count": 999,
   "id": "ecfd86d7",
   "metadata": {},
   "outputs": [],
   "source": [
    "list1=[(DF3.iloc[i].values.max()+DF3.iloc[i].values.min())/2for i in range(len(DF3)) ]"
   ]
  },
  {
   "cell_type": "code",
   "execution_count": 1000,
   "id": "da65b2d1",
   "metadata": {},
   "outputs": [],
   "source": [
    "list2=[math.log(DF3.iloc[i].values[-1])-math.log(DF3.iloc[i].values[0]) for i in range(len(DF3)) ]"
   ]
  },
  {
   "cell_type": "code",
   "execution_count": 1001,
   "id": "90408905",
   "metadata": {},
   "outputs": [],
   "source": [
    "DF3['return']=list2"
   ]
  },
  {
   "cell_type": "code",
   "execution_count": 1002,
   "id": "155d135f",
   "metadata": {},
   "outputs": [],
   "source": [
    "DF3['volatility']=list"
   ]
  },
  {
   "cell_type": "code",
   "execution_count": 1003,
   "id": "dad3e602",
   "metadata": {},
   "outputs": [],
   "source": [
    "DF3['mid']=list1"
   ]
  },
  {
   "cell_type": "code",
   "execution_count": 1004,
   "id": "fc7c5021",
   "metadata": {},
   "outputs": [
    {
     "data": {
      "text/html": [
       "<div>\n",
       "<style scoped>\n",
       "    .dataframe tbody tr th:only-of-type {\n",
       "        vertical-align: middle;\n",
       "    }\n",
       "\n",
       "    .dataframe tbody tr th {\n",
       "        vertical-align: top;\n",
       "    }\n",
       "\n",
       "    .dataframe thead th {\n",
       "        text-align: right;\n",
       "    }\n",
       "</style>\n",
       "<table border=\"1\" class=\"dataframe\">\n",
       "  <thead>\n",
       "    <tr style=\"text-align: right;\">\n",
       "      <th></th>\n",
       "      <th>0</th>\n",
       "      <th>1</th>\n",
       "      <th>2</th>\n",
       "      <th>3</th>\n",
       "      <th>4</th>\n",
       "      <th>5</th>\n",
       "      <th>6</th>\n",
       "      <th>7</th>\n",
       "      <th>8</th>\n",
       "      <th>9</th>\n",
       "      <th>target</th>\n",
       "      <th>return</th>\n",
       "      <th>volatility</th>\n",
       "      <th>mid</th>\n",
       "    </tr>\n",
       "  </thead>\n",
       "  <tbody>\n",
       "    <tr>\n",
       "      <th>0</th>\n",
       "      <td>27.77</td>\n",
       "      <td>27.69</td>\n",
       "      <td>25.12</td>\n",
       "      <td>25.37</td>\n",
       "      <td>26.10</td>\n",
       "      <td>25.37</td>\n",
       "      <td>25.70</td>\n",
       "      <td>24.75</td>\n",
       "      <td>24.61</td>\n",
       "      <td>24.42</td>\n",
       "      <td>24.69</td>\n",
       "      <td>-0.117558</td>\n",
       "      <td>0.130864</td>\n",
       "      <td>26.095</td>\n",
       "    </tr>\n",
       "    <tr>\n",
       "      <th>1</th>\n",
       "      <td>27.69</td>\n",
       "      <td>25.12</td>\n",
       "      <td>25.37</td>\n",
       "      <td>26.10</td>\n",
       "      <td>25.37</td>\n",
       "      <td>25.70</td>\n",
       "      <td>24.75</td>\n",
       "      <td>24.61</td>\n",
       "      <td>24.42</td>\n",
       "      <td>24.69</td>\n",
       "      <td>24.64</td>\n",
       "      <td>-0.116700</td>\n",
       "      <td>0.129175</td>\n",
       "      <td>26.055</td>\n",
       "    </tr>\n",
       "    <tr>\n",
       "      <th>2</th>\n",
       "      <td>25.12</td>\n",
       "      <td>25.37</td>\n",
       "      <td>26.10</td>\n",
       "      <td>25.37</td>\n",
       "      <td>25.70</td>\n",
       "      <td>24.75</td>\n",
       "      <td>24.61</td>\n",
       "      <td>24.42</td>\n",
       "      <td>24.69</td>\n",
       "      <td>24.64</td>\n",
       "      <td>24.64</td>\n",
       "      <td>-0.019293</td>\n",
       "      <td>0.067100</td>\n",
       "      <td>25.260</td>\n",
       "    </tr>\n",
       "    <tr>\n",
       "      <th>3</th>\n",
       "      <td>25.37</td>\n",
       "      <td>26.10</td>\n",
       "      <td>25.37</td>\n",
       "      <td>25.70</td>\n",
       "      <td>24.75</td>\n",
       "      <td>24.61</td>\n",
       "      <td>24.42</td>\n",
       "      <td>24.69</td>\n",
       "      <td>24.64</td>\n",
       "      <td>24.64</td>\n",
       "      <td>24.78</td>\n",
       "      <td>-0.023530</td>\n",
       "      <td>0.067183</td>\n",
       "      <td>25.260</td>\n",
       "    </tr>\n",
       "    <tr>\n",
       "      <th>4</th>\n",
       "      <td>26.10</td>\n",
       "      <td>25.37</td>\n",
       "      <td>25.70</td>\n",
       "      <td>24.75</td>\n",
       "      <td>24.61</td>\n",
       "      <td>24.42</td>\n",
       "      <td>24.69</td>\n",
       "      <td>24.64</td>\n",
       "      <td>24.64</td>\n",
       "      <td>24.78</td>\n",
       "      <td>25.46</td>\n",
       "      <td>-0.024827</td>\n",
       "      <td>0.067161</td>\n",
       "      <td>25.260</td>\n",
       "    </tr>\n",
       "    <tr>\n",
       "      <th>...</th>\n",
       "      <td>...</td>\n",
       "      <td>...</td>\n",
       "      <td>...</td>\n",
       "      <td>...</td>\n",
       "      <td>...</td>\n",
       "      <td>...</td>\n",
       "      <td>...</td>\n",
       "      <td>...</td>\n",
       "      <td>...</td>\n",
       "      <td>...</td>\n",
       "      <td>...</td>\n",
       "      <td>...</td>\n",
       "      <td>...</td>\n",
       "      <td>...</td>\n",
       "    </tr>\n",
       "    <tr>\n",
       "      <th>1245</th>\n",
       "      <td>244.86</td>\n",
       "      <td>246.38</td>\n",
       "      <td>252.42</td>\n",
       "      <td>239.48</td>\n",
       "      <td>243.19</td>\n",
       "      <td>247.28</td>\n",
       "      <td>251.08</td>\n",
       "      <td>267.05</td>\n",
       "      <td>258.24</td>\n",
       "      <td>239.49</td>\n",
       "      <td>242.67</td>\n",
       "      <td>-0.008984</td>\n",
       "      <td>0.111001</td>\n",
       "      <td>253.265</td>\n",
       "    </tr>\n",
       "    <tr>\n",
       "      <th>1246</th>\n",
       "      <td>246.38</td>\n",
       "      <td>252.42</td>\n",
       "      <td>239.48</td>\n",
       "      <td>243.19</td>\n",
       "      <td>247.28</td>\n",
       "      <td>251.08</td>\n",
       "      <td>267.05</td>\n",
       "      <td>258.24</td>\n",
       "      <td>239.49</td>\n",
       "      <td>242.67</td>\n",
       "      <td>264.95</td>\n",
       "      <td>0.072666</td>\n",
       "      <td>0.110191</td>\n",
       "      <td>253.265</td>\n",
       "    </tr>\n",
       "    <tr>\n",
       "      <th>1247</th>\n",
       "      <td>252.42</td>\n",
       "      <td>239.48</td>\n",
       "      <td>243.19</td>\n",
       "      <td>247.28</td>\n",
       "      <td>251.08</td>\n",
       "      <td>267.05</td>\n",
       "      <td>258.24</td>\n",
       "      <td>239.49</td>\n",
       "      <td>242.67</td>\n",
       "      <td>264.95</td>\n",
       "      <td>265.11</td>\n",
       "      <td>0.049050</td>\n",
       "      <td>0.109446</td>\n",
       "      <td>253.265</td>\n",
       "    </tr>\n",
       "    <tr>\n",
       "      <th>1248</th>\n",
       "      <td>239.48</td>\n",
       "      <td>243.19</td>\n",
       "      <td>247.28</td>\n",
       "      <td>251.08</td>\n",
       "      <td>267.05</td>\n",
       "      <td>258.24</td>\n",
       "      <td>239.49</td>\n",
       "      <td>242.67</td>\n",
       "      <td>264.95</td>\n",
       "      <td>265.11</td>\n",
       "      <td>245.07</td>\n",
       "      <td>0.023074</td>\n",
       "      <td>0.109737</td>\n",
       "      <td>253.265</td>\n",
       "    </tr>\n",
       "    <tr>\n",
       "      <th>1249</th>\n",
       "      <td>243.19</td>\n",
       "      <td>247.28</td>\n",
       "      <td>251.08</td>\n",
       "      <td>267.05</td>\n",
       "      <td>258.24</td>\n",
       "      <td>239.49</td>\n",
       "      <td>242.67</td>\n",
       "      <td>264.95</td>\n",
       "      <td>265.11</td>\n",
       "      <td>245.07</td>\n",
       "      <td>236.42</td>\n",
       "      <td>-0.028233</td>\n",
       "      <td>0.122052</td>\n",
       "      <td>251.735</td>\n",
       "    </tr>\n",
       "  </tbody>\n",
       "</table>\n",
       "<p>1250 rows × 14 columns</p>\n",
       "</div>"
      ],
      "text/plain": [
       "           0       1       2       3       4       5       6       7       8  \\\n",
       "0      27.77   27.69   25.12   25.37   26.10   25.37   25.70   24.75   24.61   \n",
       "1      27.69   25.12   25.37   26.10   25.37   25.70   24.75   24.61   24.42   \n",
       "2      25.12   25.37   26.10   25.37   25.70   24.75   24.61   24.42   24.69   \n",
       "3      25.37   26.10   25.37   25.70   24.75   24.61   24.42   24.69   24.64   \n",
       "4      26.10   25.37   25.70   24.75   24.61   24.42   24.69   24.64   24.64   \n",
       "...      ...     ...     ...     ...     ...     ...     ...     ...     ...   \n",
       "1245  244.86  246.38  252.42  239.48  243.19  247.28  251.08  267.05  258.24   \n",
       "1246  246.38  252.42  239.48  243.19  247.28  251.08  267.05  258.24  239.49   \n",
       "1247  252.42  239.48  243.19  247.28  251.08  267.05  258.24  239.49  242.67   \n",
       "1248  239.48  243.19  247.28  251.08  267.05  258.24  239.49  242.67  264.95   \n",
       "1249  243.19  247.28  251.08  267.05  258.24  239.49  242.67  264.95  265.11   \n",
       "\n",
       "           9  target    return  volatility      mid  \n",
       "0      24.42   24.69 -0.117558    0.130864   26.095  \n",
       "1      24.69   24.64 -0.116700    0.129175   26.055  \n",
       "2      24.64   24.64 -0.019293    0.067100   25.260  \n",
       "3      24.64   24.78 -0.023530    0.067183   25.260  \n",
       "4      24.78   25.46 -0.024827    0.067161   25.260  \n",
       "...      ...     ...       ...         ...      ...  \n",
       "1245  239.49  242.67 -0.008984    0.111001  253.265  \n",
       "1246  242.67  264.95  0.072666    0.110191  253.265  \n",
       "1247  264.95  265.11  0.049050    0.109446  253.265  \n",
       "1248  265.11  245.07  0.023074    0.109737  253.265  \n",
       "1249  245.07  236.42 -0.028233    0.122052  251.735  \n",
       "\n",
       "[1250 rows x 14 columns]"
      ]
     },
     "execution_count": 1004,
     "metadata": {},
     "output_type": "execute_result"
    }
   ],
   "source": [
    "DF3"
   ]
  },
  {
   "cell_type": "code",
   "execution_count": 1005,
   "id": "4de8b78a",
   "metadata": {},
   "outputs": [
    {
     "data": {
      "text/plain": [
       "(1250, 14)"
      ]
     },
     "execution_count": 1005,
     "metadata": {},
     "output_type": "execute_result"
    }
   ],
   "source": [
    "DF3.shape"
   ]
  },
  {
   "cell_type": "code",
   "execution_count": 1006,
   "id": "aea896a5",
   "metadata": {},
   "outputs": [],
   "source": [
    "from sklearn.preprocessing import MinMaxScaler"
   ]
  },
  {
   "cell_type": "code",
   "execution_count": 1007,
   "id": "94c45b86",
   "metadata": {},
   "outputs": [],
   "source": [
    "scaler = MinMaxScaler(feature_range=(0,1))"
   ]
  },
  {
   "cell_type": "code",
   "execution_count": 1008,
   "id": "a2b54581",
   "metadata": {},
   "outputs": [],
   "source": [
    "DF3=scaler.fit_transform(np.array(DF3).reshape(-1,1))"
   ]
  },
  {
   "cell_type": "code",
   "execution_count": 1009,
   "id": "16ee414a",
   "metadata": {},
   "outputs": [],
   "source": [
    "DF3=DF3.reshape(1250,14)"
   ]
  },
  {
   "cell_type": "code",
   "execution_count": 1010,
   "id": "aa1921c3",
   "metadata": {},
   "outputs": [],
   "source": [
    "DF3=pd.DataFrame(DF3,columns=[0,1,2,3,4,5,6,7,8,9,'target','window_return','volatility','mid'])"
   ]
  },
  {
   "cell_type": "markdown",
   "id": "0860b1ba",
   "metadata": {},
   "source": [
    "## Final Data Frame"
   ]
  },
  {
   "cell_type": "code",
   "execution_count": 1011,
   "id": "ea0ef1f9",
   "metadata": {},
   "outputs": [
    {
     "data": {
      "text/html": [
       "<div>\n",
       "<style scoped>\n",
       "    .dataframe tbody tr th:only-of-type {\n",
       "        vertical-align: middle;\n",
       "    }\n",
       "\n",
       "    .dataframe tbody tr th {\n",
       "        vertical-align: top;\n",
       "    }\n",
       "\n",
       "    .dataframe thead th {\n",
       "        text-align: right;\n",
       "    }\n",
       "</style>\n",
       "<table border=\"1\" class=\"dataframe\">\n",
       "  <thead>\n",
       "    <tr style=\"text-align: right;\">\n",
       "      <th></th>\n",
       "      <th>0</th>\n",
       "      <th>1</th>\n",
       "      <th>2</th>\n",
       "      <th>3</th>\n",
       "      <th>4</th>\n",
       "      <th>5</th>\n",
       "      <th>6</th>\n",
       "      <th>7</th>\n",
       "      <th>8</th>\n",
       "      <th>9</th>\n",
       "      <th>target</th>\n",
       "      <th>window_return</th>\n",
       "      <th>volatility</th>\n",
       "      <th>mid</th>\n",
       "    </tr>\n",
       "  </thead>\n",
       "  <tbody>\n",
       "    <tr>\n",
       "      <th>0</th>\n",
       "      <td>0.084274</td>\n",
       "      <td>0.084035</td>\n",
       "      <td>0.076344</td>\n",
       "      <td>0.077092</td>\n",
       "      <td>0.079276</td>\n",
       "      <td>0.077092</td>\n",
       "      <td>0.078079</td>\n",
       "      <td>0.075236</td>\n",
       "      <td>0.074817</td>\n",
       "      <td>0.074249</td>\n",
       "      <td>0.075057</td>\n",
       "      <td>0.000816</td>\n",
       "      <td>0.001559</td>\n",
       "      <td>0.079261</td>\n",
       "    </tr>\n",
       "    <tr>\n",
       "      <th>1</th>\n",
       "      <td>0.084035</td>\n",
       "      <td>0.076344</td>\n",
       "      <td>0.077092</td>\n",
       "      <td>0.079276</td>\n",
       "      <td>0.077092</td>\n",
       "      <td>0.078079</td>\n",
       "      <td>0.075236</td>\n",
       "      <td>0.074817</td>\n",
       "      <td>0.074249</td>\n",
       "      <td>0.075057</td>\n",
       "      <td>0.074907</td>\n",
       "      <td>0.000819</td>\n",
       "      <td>0.001554</td>\n",
       "      <td>0.079142</td>\n",
       "    </tr>\n",
       "    <tr>\n",
       "      <th>2</th>\n",
       "      <td>0.076344</td>\n",
       "      <td>0.077092</td>\n",
       "      <td>0.079276</td>\n",
       "      <td>0.077092</td>\n",
       "      <td>0.078079</td>\n",
       "      <td>0.075236</td>\n",
       "      <td>0.074817</td>\n",
       "      <td>0.074249</td>\n",
       "      <td>0.075057</td>\n",
       "      <td>0.074907</td>\n",
       "      <td>0.074907</td>\n",
       "      <td>0.001110</td>\n",
       "      <td>0.001369</td>\n",
       "      <td>0.076763</td>\n",
       "    </tr>\n",
       "    <tr>\n",
       "      <th>3</th>\n",
       "      <td>0.077092</td>\n",
       "      <td>0.079276</td>\n",
       "      <td>0.077092</td>\n",
       "      <td>0.078079</td>\n",
       "      <td>0.075236</td>\n",
       "      <td>0.074817</td>\n",
       "      <td>0.074249</td>\n",
       "      <td>0.075057</td>\n",
       "      <td>0.074907</td>\n",
       "      <td>0.074907</td>\n",
       "      <td>0.075326</td>\n",
       "      <td>0.001097</td>\n",
       "      <td>0.001369</td>\n",
       "      <td>0.076763</td>\n",
       "    </tr>\n",
       "    <tr>\n",
       "      <th>4</th>\n",
       "      <td>0.079276</td>\n",
       "      <td>0.077092</td>\n",
       "      <td>0.078079</td>\n",
       "      <td>0.075236</td>\n",
       "      <td>0.074817</td>\n",
       "      <td>0.074249</td>\n",
       "      <td>0.075057</td>\n",
       "      <td>0.074907</td>\n",
       "      <td>0.074907</td>\n",
       "      <td>0.075326</td>\n",
       "      <td>0.077361</td>\n",
       "      <td>0.001094</td>\n",
       "      <td>0.001369</td>\n",
       "      <td>0.076763</td>\n",
       "    </tr>\n",
       "    <tr>\n",
       "      <th>...</th>\n",
       "      <td>...</td>\n",
       "      <td>...</td>\n",
       "      <td>...</td>\n",
       "      <td>...</td>\n",
       "      <td>...</td>\n",
       "      <td>...</td>\n",
       "      <td>...</td>\n",
       "      <td>...</td>\n",
       "      <td>...</td>\n",
       "      <td>...</td>\n",
       "      <td>...</td>\n",
       "      <td>...</td>\n",
       "      <td>...</td>\n",
       "      <td>...</td>\n",
       "    </tr>\n",
       "    <tr>\n",
       "      <th>1245</th>\n",
       "      <td>0.733952</td>\n",
       "      <td>0.738501</td>\n",
       "      <td>0.756577</td>\n",
       "      <td>0.717851</td>\n",
       "      <td>0.728954</td>\n",
       "      <td>0.741194</td>\n",
       "      <td>0.752566</td>\n",
       "      <td>0.800359</td>\n",
       "      <td>0.773994</td>\n",
       "      <td>0.717881</td>\n",
       "      <td>0.727398</td>\n",
       "      <td>0.001141</td>\n",
       "      <td>0.001500</td>\n",
       "      <td>0.759105</td>\n",
       "    </tr>\n",
       "    <tr>\n",
       "      <th>1246</th>\n",
       "      <td>0.738501</td>\n",
       "      <td>0.756577</td>\n",
       "      <td>0.717851</td>\n",
       "      <td>0.728954</td>\n",
       "      <td>0.741194</td>\n",
       "      <td>0.752566</td>\n",
       "      <td>0.800359</td>\n",
       "      <td>0.773994</td>\n",
       "      <td>0.717881</td>\n",
       "      <td>0.727398</td>\n",
       "      <td>0.794075</td>\n",
       "      <td>0.001385</td>\n",
       "      <td>0.001498</td>\n",
       "      <td>0.759105</td>\n",
       "    </tr>\n",
       "    <tr>\n",
       "      <th>1247</th>\n",
       "      <td>0.756577</td>\n",
       "      <td>0.717851</td>\n",
       "      <td>0.728954</td>\n",
       "      <td>0.741194</td>\n",
       "      <td>0.752566</td>\n",
       "      <td>0.800359</td>\n",
       "      <td>0.773994</td>\n",
       "      <td>0.717881</td>\n",
       "      <td>0.727398</td>\n",
       "      <td>0.794075</td>\n",
       "      <td>0.794553</td>\n",
       "      <td>0.001315</td>\n",
       "      <td>0.001495</td>\n",
       "      <td>0.759105</td>\n",
       "    </tr>\n",
       "    <tr>\n",
       "      <th>1248</th>\n",
       "      <td>0.717851</td>\n",
       "      <td>0.728954</td>\n",
       "      <td>0.741194</td>\n",
       "      <td>0.752566</td>\n",
       "      <td>0.800359</td>\n",
       "      <td>0.773994</td>\n",
       "      <td>0.717881</td>\n",
       "      <td>0.727398</td>\n",
       "      <td>0.794075</td>\n",
       "      <td>0.794553</td>\n",
       "      <td>0.734580</td>\n",
       "      <td>0.001237</td>\n",
       "      <td>0.001496</td>\n",
       "      <td>0.759105</td>\n",
       "    </tr>\n",
       "    <tr>\n",
       "      <th>1249</th>\n",
       "      <td>0.728954</td>\n",
       "      <td>0.741194</td>\n",
       "      <td>0.752566</td>\n",
       "      <td>0.800359</td>\n",
       "      <td>0.773994</td>\n",
       "      <td>0.717881</td>\n",
       "      <td>0.727398</td>\n",
       "      <td>0.794075</td>\n",
       "      <td>0.794553</td>\n",
       "      <td>0.734580</td>\n",
       "      <td>0.708694</td>\n",
       "      <td>0.001083</td>\n",
       "      <td>0.001533</td>\n",
       "      <td>0.754527</td>\n",
       "    </tr>\n",
       "  </tbody>\n",
       "</table>\n",
       "<p>1250 rows × 14 columns</p>\n",
       "</div>"
      ],
      "text/plain": [
       "             0         1         2         3         4         5         6  \\\n",
       "0     0.084274  0.084035  0.076344  0.077092  0.079276  0.077092  0.078079   \n",
       "1     0.084035  0.076344  0.077092  0.079276  0.077092  0.078079  0.075236   \n",
       "2     0.076344  0.077092  0.079276  0.077092  0.078079  0.075236  0.074817   \n",
       "3     0.077092  0.079276  0.077092  0.078079  0.075236  0.074817  0.074249   \n",
       "4     0.079276  0.077092  0.078079  0.075236  0.074817  0.074249  0.075057   \n",
       "...        ...       ...       ...       ...       ...       ...       ...   \n",
       "1245  0.733952  0.738501  0.756577  0.717851  0.728954  0.741194  0.752566   \n",
       "1246  0.738501  0.756577  0.717851  0.728954  0.741194  0.752566  0.800359   \n",
       "1247  0.756577  0.717851  0.728954  0.741194  0.752566  0.800359  0.773994   \n",
       "1248  0.717851  0.728954  0.741194  0.752566  0.800359  0.773994  0.717881   \n",
       "1249  0.728954  0.741194  0.752566  0.800359  0.773994  0.717881  0.727398   \n",
       "\n",
       "             7         8         9    target  window_return  volatility  \\\n",
       "0     0.075236  0.074817  0.074249  0.075057       0.000816    0.001559   \n",
       "1     0.074817  0.074249  0.075057  0.074907       0.000819    0.001554   \n",
       "2     0.074249  0.075057  0.074907  0.074907       0.001110    0.001369   \n",
       "3     0.075057  0.074907  0.074907  0.075326       0.001097    0.001369   \n",
       "4     0.074907  0.074907  0.075326  0.077361       0.001094    0.001369   \n",
       "...        ...       ...       ...       ...            ...         ...   \n",
       "1245  0.800359  0.773994  0.717881  0.727398       0.001141    0.001500   \n",
       "1246  0.773994  0.717881  0.727398  0.794075       0.001385    0.001498   \n",
       "1247  0.717881  0.727398  0.794075  0.794553       0.001315    0.001495   \n",
       "1248  0.727398  0.794075  0.794553  0.734580       0.001237    0.001496   \n",
       "1249  0.794075  0.794553  0.734580  0.708694       0.001083    0.001533   \n",
       "\n",
       "           mid  \n",
       "0     0.079261  \n",
       "1     0.079142  \n",
       "2     0.076763  \n",
       "3     0.076763  \n",
       "4     0.076763  \n",
       "...        ...  \n",
       "1245  0.759105  \n",
       "1246  0.759105  \n",
       "1247  0.759105  \n",
       "1248  0.759105  \n",
       "1249  0.754527  \n",
       "\n",
       "[1250 rows x 14 columns]"
      ]
     },
     "execution_count": 1011,
     "metadata": {},
     "output_type": "execute_result"
    }
   ],
   "source": [
    "DF3"
   ]
  },
  {
   "cell_type": "markdown",
   "id": "9866dea5",
   "metadata": {},
   "source": [
    "## Training and Testing split"
   ]
  },
  {
   "cell_type": "code",
   "execution_count": 1012,
   "id": "8a5d5af4",
   "metadata": {},
   "outputs": [],
   "source": [
    "training_size = int(len(DF3)*0.67)\n",
    "test_size = len(DF3)- training_size\n",
    "train_data,test_data = DF3[0:training_size], DF3[training_size:len(DF3)]"
   ]
  },
  {
   "cell_type": "code",
   "execution_count": 1013,
   "id": "8309db79",
   "metadata": {},
   "outputs": [],
   "source": [
    "X_train, X_test,y_train,y_test=train_data.drop('target',axis=1),test_data.drop('target',axis=1),train_data['target'],test_data['target']"
   ]
  },
  {
   "cell_type": "code",
   "execution_count": 1014,
   "id": "e464a2d2",
   "metadata": {},
   "outputs": [],
   "source": [
    "from sklearn.linear_model import LinearRegression"
   ]
  },
  {
   "cell_type": "code",
   "execution_count": 1015,
   "id": "26667734",
   "metadata": {},
   "outputs": [],
   "source": [
    "lm=LinearRegression()"
   ]
  },
  {
   "cell_type": "code",
   "execution_count": 1016,
   "id": "c236c087",
   "metadata": {},
   "outputs": [],
   "source": [
    "model=lm.fit(X_train,y_train)"
   ]
  },
  {
   "cell_type": "code",
   "execution_count": 1017,
   "id": "749e017c",
   "metadata": {},
   "outputs": [],
   "source": [
    "pred=lm.predict(X_test)"
   ]
  },
  {
   "cell_type": "code",
   "execution_count": 1018,
   "id": "9455ea5d",
   "metadata": {},
   "outputs": [
    {
     "data": {
      "text/plain": [
       "(413,)"
      ]
     },
     "execution_count": 1018,
     "metadata": {},
     "output_type": "execute_result"
    }
   ],
   "source": [
    "pred.shape"
   ]
  },
  {
   "cell_type": "code",
   "execution_count": 1029,
   "id": "8cf9c57b",
   "metadata": {},
   "outputs": [
    {
     "data": {
      "text/html": [
       "<div>\n",
       "<style scoped>\n",
       "    .dataframe tbody tr th:only-of-type {\n",
       "        vertical-align: middle;\n",
       "    }\n",
       "\n",
       "    .dataframe tbody tr th {\n",
       "        vertical-align: top;\n",
       "    }\n",
       "\n",
       "    .dataframe thead th {\n",
       "        text-align: right;\n",
       "    }\n",
       "</style>\n",
       "<table border=\"1\" class=\"dataframe\">\n",
       "  <thead>\n",
       "    <tr style=\"text-align: right;\">\n",
       "      <th></th>\n",
       "      <th>0</th>\n",
       "      <th>1</th>\n",
       "      <th>2</th>\n",
       "      <th>3</th>\n",
       "      <th>4</th>\n",
       "      <th>5</th>\n",
       "      <th>6</th>\n",
       "      <th>7</th>\n",
       "      <th>8</th>\n",
       "      <th>9</th>\n",
       "      <th>window_return</th>\n",
       "      <th>volatility</th>\n",
       "      <th>mid</th>\n",
       "    </tr>\n",
       "  </thead>\n",
       "  <tbody>\n",
       "    <tr>\n",
       "      <th>0</th>\n",
       "      <td>0.084274</td>\n",
       "      <td>0.084035</td>\n",
       "      <td>0.076344</td>\n",
       "      <td>0.077092</td>\n",
       "      <td>0.079276</td>\n",
       "      <td>0.077092</td>\n",
       "      <td>0.078079</td>\n",
       "      <td>0.075236</td>\n",
       "      <td>0.074817</td>\n",
       "      <td>0.074249</td>\n",
       "      <td>0.000816</td>\n",
       "      <td>0.001559</td>\n",
       "      <td>0.079261</td>\n",
       "    </tr>\n",
       "    <tr>\n",
       "      <th>1</th>\n",
       "      <td>0.084035</td>\n",
       "      <td>0.076344</td>\n",
       "      <td>0.077092</td>\n",
       "      <td>0.079276</td>\n",
       "      <td>0.077092</td>\n",
       "      <td>0.078079</td>\n",
       "      <td>0.075236</td>\n",
       "      <td>0.074817</td>\n",
       "      <td>0.074249</td>\n",
       "      <td>0.075057</td>\n",
       "      <td>0.000819</td>\n",
       "      <td>0.001554</td>\n",
       "      <td>0.079142</td>\n",
       "    </tr>\n",
       "    <tr>\n",
       "      <th>2</th>\n",
       "      <td>0.076344</td>\n",
       "      <td>0.077092</td>\n",
       "      <td>0.079276</td>\n",
       "      <td>0.077092</td>\n",
       "      <td>0.078079</td>\n",
       "      <td>0.075236</td>\n",
       "      <td>0.074817</td>\n",
       "      <td>0.074249</td>\n",
       "      <td>0.075057</td>\n",
       "      <td>0.074907</td>\n",
       "      <td>0.001110</td>\n",
       "      <td>0.001369</td>\n",
       "      <td>0.076763</td>\n",
       "    </tr>\n",
       "    <tr>\n",
       "      <th>3</th>\n",
       "      <td>0.077092</td>\n",
       "      <td>0.079276</td>\n",
       "      <td>0.077092</td>\n",
       "      <td>0.078079</td>\n",
       "      <td>0.075236</td>\n",
       "      <td>0.074817</td>\n",
       "      <td>0.074249</td>\n",
       "      <td>0.075057</td>\n",
       "      <td>0.074907</td>\n",
       "      <td>0.074907</td>\n",
       "      <td>0.001097</td>\n",
       "      <td>0.001369</td>\n",
       "      <td>0.076763</td>\n",
       "    </tr>\n",
       "    <tr>\n",
       "      <th>4</th>\n",
       "      <td>0.079276</td>\n",
       "      <td>0.077092</td>\n",
       "      <td>0.078079</td>\n",
       "      <td>0.075236</td>\n",
       "      <td>0.074817</td>\n",
       "      <td>0.074249</td>\n",
       "      <td>0.075057</td>\n",
       "      <td>0.074907</td>\n",
       "      <td>0.074907</td>\n",
       "      <td>0.075326</td>\n",
       "      <td>0.001094</td>\n",
       "      <td>0.001369</td>\n",
       "      <td>0.076763</td>\n",
       "    </tr>\n",
       "    <tr>\n",
       "      <th>...</th>\n",
       "      <td>...</td>\n",
       "      <td>...</td>\n",
       "      <td>...</td>\n",
       "      <td>...</td>\n",
       "      <td>...</td>\n",
       "      <td>...</td>\n",
       "      <td>...</td>\n",
       "      <td>...</td>\n",
       "      <td>...</td>\n",
       "      <td>...</td>\n",
       "      <td>...</td>\n",
       "      <td>...</td>\n",
       "      <td>...</td>\n",
       "    </tr>\n",
       "    <tr>\n",
       "      <th>832</th>\n",
       "      <td>0.264403</td>\n",
       "      <td>0.268503</td>\n",
       "      <td>0.275715</td>\n",
       "      <td>0.272573</td>\n",
       "      <td>0.277570</td>\n",
       "      <td>0.277032</td>\n",
       "      <td>0.278319</td>\n",
       "      <td>0.286279</td>\n",
       "      <td>0.283975</td>\n",
       "      <td>0.277570</td>\n",
       "      <td>0.001395</td>\n",
       "      <td>0.001405</td>\n",
       "      <td>0.275341</td>\n",
       "    </tr>\n",
       "    <tr>\n",
       "      <th>833</th>\n",
       "      <td>0.268503</td>\n",
       "      <td>0.275715</td>\n",
       "      <td>0.272573</td>\n",
       "      <td>0.277570</td>\n",
       "      <td>0.277032</td>\n",
       "      <td>0.278319</td>\n",
       "      <td>0.286279</td>\n",
       "      <td>0.283975</td>\n",
       "      <td>0.277570</td>\n",
       "      <td>0.285172</td>\n",
       "      <td>0.001241</td>\n",
       "      <td>0.001360</td>\n",
       "      <td>0.277391</td>\n",
       "    </tr>\n",
       "    <tr>\n",
       "      <th>834</th>\n",
       "      <td>0.275715</td>\n",
       "      <td>0.272573</td>\n",
       "      <td>0.277570</td>\n",
       "      <td>0.277032</td>\n",
       "      <td>0.278319</td>\n",
       "      <td>0.286279</td>\n",
       "      <td>0.283975</td>\n",
       "      <td>0.277570</td>\n",
       "      <td>0.285172</td>\n",
       "      <td>0.275146</td>\n",
       "      <td>0.001176</td>\n",
       "      <td>0.001316</td>\n",
       "      <td>0.279426</td>\n",
       "    </tr>\n",
       "    <tr>\n",
       "      <th>835</th>\n",
       "      <td>0.272573</td>\n",
       "      <td>0.277570</td>\n",
       "      <td>0.277032</td>\n",
       "      <td>0.278319</td>\n",
       "      <td>0.286279</td>\n",
       "      <td>0.283975</td>\n",
       "      <td>0.277570</td>\n",
       "      <td>0.285172</td>\n",
       "      <td>0.275146</td>\n",
       "      <td>0.276493</td>\n",
       "      <td>0.001306</td>\n",
       "      <td>0.001315</td>\n",
       "      <td>0.279426</td>\n",
       "    </tr>\n",
       "    <tr>\n",
       "      <th>836</th>\n",
       "      <td>0.277570</td>\n",
       "      <td>0.277032</td>\n",
       "      <td>0.278319</td>\n",
       "      <td>0.286279</td>\n",
       "      <td>0.283975</td>\n",
       "      <td>0.277570</td>\n",
       "      <td>0.285172</td>\n",
       "      <td>0.275146</td>\n",
       "      <td>0.276493</td>\n",
       "      <td>0.285411</td>\n",
       "      <td>0.001262</td>\n",
       "      <td>0.001288</td>\n",
       "      <td>0.280758</td>\n",
       "    </tr>\n",
       "  </tbody>\n",
       "</table>\n",
       "<p>837 rows × 13 columns</p>\n",
       "</div>"
      ],
      "text/plain": [
       "            0         1         2         3         4         5         6  \\\n",
       "0    0.084274  0.084035  0.076344  0.077092  0.079276  0.077092  0.078079   \n",
       "1    0.084035  0.076344  0.077092  0.079276  0.077092  0.078079  0.075236   \n",
       "2    0.076344  0.077092  0.079276  0.077092  0.078079  0.075236  0.074817   \n",
       "3    0.077092  0.079276  0.077092  0.078079  0.075236  0.074817  0.074249   \n",
       "4    0.079276  0.077092  0.078079  0.075236  0.074817  0.074249  0.075057   \n",
       "..        ...       ...       ...       ...       ...       ...       ...   \n",
       "832  0.264403  0.268503  0.275715  0.272573  0.277570  0.277032  0.278319   \n",
       "833  0.268503  0.275715  0.272573  0.277570  0.277032  0.278319  0.286279   \n",
       "834  0.275715  0.272573  0.277570  0.277032  0.278319  0.286279  0.283975   \n",
       "835  0.272573  0.277570  0.277032  0.278319  0.286279  0.283975  0.277570   \n",
       "836  0.277570  0.277032  0.278319  0.286279  0.283975  0.277570  0.285172   \n",
       "\n",
       "            7         8         9  window_return  volatility       mid  \n",
       "0    0.075236  0.074817  0.074249       0.000816    0.001559  0.079261  \n",
       "1    0.074817  0.074249  0.075057       0.000819    0.001554  0.079142  \n",
       "2    0.074249  0.075057  0.074907       0.001110    0.001369  0.076763  \n",
       "3    0.075057  0.074907  0.074907       0.001097    0.001369  0.076763  \n",
       "4    0.074907  0.074907  0.075326       0.001094    0.001369  0.076763  \n",
       "..        ...       ...       ...            ...         ...       ...  \n",
       "832  0.286279  0.283975  0.277570       0.001395    0.001405  0.275341  \n",
       "833  0.283975  0.277570  0.285172       0.001241    0.001360  0.277391  \n",
       "834  0.277570  0.285172  0.275146       0.001176    0.001316  0.279426  \n",
       "835  0.285172  0.275146  0.276493       0.001306    0.001315  0.279426  \n",
       "836  0.275146  0.276493  0.285411       0.001262    0.001288  0.280758  \n",
       "\n",
       "[837 rows x 13 columns]"
      ]
     },
     "execution_count": 1029,
     "metadata": {},
     "output_type": "execute_result"
    }
   ],
   "source": [
    "X_train"
   ]
  },
  {
   "cell_type": "code",
   "execution_count": 1032,
   "id": "df3b81a7",
   "metadata": {},
   "outputs": [],
   "source": [
    "pred_array=scaler.inverse_transform(pred.reshape(413,-1))"
   ]
  },
  {
   "cell_type": "code",
   "execution_count": 1033,
   "id": "6e04e0c4",
   "metadata": {},
   "outputs": [],
   "source": [
    "original_array=scaler.inverse_transform(np.array(y_test).reshape(413,-1))"
   ]
  },
  {
   "cell_type": "markdown",
   "id": "621a8514",
   "metadata": {},
   "source": [
    "## Model Performance"
   ]
  },
  {
   "cell_type": "code",
   "execution_count": 1034,
   "id": "6847abf9",
   "metadata": {},
   "outputs": [],
   "source": [
    "from sklearn.metrics import mean_squared_error, mean_absolute_error,r2_score"
   ]
  },
  {
   "cell_type": "code",
   "execution_count": 1035,
   "id": "a69af980",
   "metadata": {},
   "outputs": [
    {
     "data": {
      "text/plain": [
       "0.0006675398331413816"
      ]
     },
     "execution_count": 1035,
     "metadata": {},
     "output_type": "execute_result"
    }
   ],
   "source": [
    "mean_squared_error(y_test,pred)"
   ]
  },
  {
   "cell_type": "code",
   "execution_count": 1036,
   "id": "5ca02bda",
   "metadata": {},
   "outputs": [
    {
     "data": {
      "text/plain": [
       "0.9797947271623086"
      ]
     },
     "execution_count": 1036,
     "metadata": {},
     "output_type": "execute_result"
    }
   ],
   "source": [
    "r2_score(y_test, pred)"
   ]
  },
  {
   "cell_type": "code",
   "execution_count": 1037,
   "id": "39ffece8",
   "metadata": {},
   "outputs": [
    {
     "data": {
      "text/plain": [
       "0.017815559154212103"
      ]
     },
     "execution_count": 1037,
     "metadata": {},
     "output_type": "execute_result"
    }
   ],
   "source": [
    "mean_absolute_error(y_test, pred)"
   ]
  },
  {
   "cell_type": "code",
   "execution_count": 1038,
   "id": "7afefd7d",
   "metadata": {},
   "outputs": [],
   "source": [
    "importance = model.coef_"
   ]
  },
  {
   "cell_type": "code",
   "execution_count": 1039,
   "id": "ff285cdc",
   "metadata": {},
   "outputs": [],
   "source": [
    "importance=importance.reshape(13,)"
   ]
  },
  {
   "cell_type": "code",
   "execution_count": 1040,
   "id": "9772898a",
   "metadata": {},
   "outputs": [
    {
     "name": "stdout",
     "output_type": "stream",
     "text": [
      "Feature: 0, Score: 0.42006\n",
      "Feature: 1, Score: -0.00394\n",
      "Feature: 2, Score: -0.11062\n",
      "Feature: 3, Score: 0.02479\n",
      "Feature: 4, Score: -0.06429\n",
      "Feature: 5, Score: -0.04292\n",
      "Feature: 6, Score: -0.07824\n",
      "Feature: 7, Score: -0.03305\n",
      "Feature: 8, Score: 0.03742\n",
      "Feature: 9, Score: 0.20018\n",
      "Feature: 10, Score: 28.58863\n",
      "Feature: 11, Score: -0.14068\n",
      "Feature: 12, Score: 0.66730\n"
     ]
    },
    {
     "data": {
      "image/png": "[encoded data removed]",
      "text/plain": [
       "<Figure size 432x288 with 1 Axes>"
      ]
     },
     "metadata": {
      "needs_background": "light"
     },
     "output_type": "display_data"
    }
   ],
   "source": [
    "for i,v in enumerate(importance):\n",
    "\tprint('Feature: %0d, Score: %.5f' % (i,v))\n",
    "# plot feature importance\n",
    "plt.bar([x for x in range(len(importance))], importance)\n",
    "plt.show()"
   ]
  },
  {
   "cell_type": "markdown",
   "id": "a486ebc9",
   "metadata": {},
   "source": [
    "### Plotting the results for LR \n"
   ]
  },
  {
   "cell_type": "code",
   "execution_count": 1046,
   "id": "19dc5e8b",
   "metadata": {},
   "outputs": [
    {
     "data": {
      "image/png": "[encoded data removed]",
      "text/plain": [
       "<Figure size 1440x1080 with 1 Axes>"
      ]
     },
     "metadata": {
      "needs_background": "light"
     },
     "output_type": "display_data"
    }
   ],
   "source": [
    "plt.figure(figsize=(20,15))\n",
    "plt.plot(original_array,color='black',label='Orig Price')\n",
    "plt.plot(pred_array,color='green',label='Predicted Price')\n",
    "plt.title('NVDA Stock Price')\n",
    "plt.xlabel ('Time')\n",
    "plt.ylabel ('NVDA Stock Price')\n",
    "plt.legend()\n",
    "plt.show()"
   ]
  },
  {
   "cell_type": "markdown",
   "id": "c9c01fc8",
   "metadata": {},
   "source": [
    "# 2. Long Short-Term Memory (LSTM)"
   ]
  },
  {
   "cell_type": "code",
   "execution_count": null,
   "id": "28c0dbff",
   "metadata": {},
   "outputs": [],
   "source": []
  }
 ],
 "metadata": {
  "kernelspec": {
   "display_name": "Python 3 (ipykernel)",
   "language": "python",
   "name": "python3"
  },
  "language_info": {
   "codemirror_mode": {
    "name": "ipython",
    "version": 3
   },
   "file_extension": ".py",
   "mimetype": "text/x-python",
   "name": "python",
   "nbconvert_exporter": "python",
   "pygments_lexer": "ipython3",
   "version": "3.9.7"
  }
 },
 "nbformat": 4,
 "nbformat_minor": 5
}
